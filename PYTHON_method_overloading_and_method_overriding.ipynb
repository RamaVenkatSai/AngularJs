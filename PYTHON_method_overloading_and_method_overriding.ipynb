{
  "nbformat": 4,
  "nbformat_minor": 0,
  "metadata": {
    "colab": {
      "name": "PYTHON method overloading and method overriding.ipynb",
      "provenance": [],
      "authorship_tag": "ABX9TyOZ2aI89m166IVlwU2a9P+l",
      "include_colab_link": true
    },
    "kernelspec": {
      "name": "python3",
      "display_name": "Python 3"
    }
  },
  "cells": [
    {
      "cell_type": "markdown",
      "metadata": {
        "id": "view-in-github",
        "colab_type": "text"
      },
      "source": [
        "<a href=\"https://colab.research.google.com/github/RamaVenkatSai/AngularJs/blob/master/PYTHON_method_overloading_and_method_overriding.ipynb\" target=\"_parent\"><img src=\"https://colab.research.google.com/assets/colab-badge.svg\" alt=\"Open In Colab\"/></a>"
      ]
    },
    {
      "cell_type": "code",
      "metadata": {
        "id": "BQpLFeuJ4pMJ",
        "outputId": "b89ba1ac-891d-4c67-b68f-1fa01c939935",
        "colab": {
          "base_uri": "https://localhost:8080/",
          "height": 68
        }
      },
      "source": [
        "# method overloading\n",
        "class Student:\n",
        "  def __init__(self,m1,m2):\n",
        "    self.m1=m1\n",
        "    self.m2=m2\n",
        "  def sum(self,a=None,b=None,c=None): # incase of java if we have 3 arguments and 2 arguments we used to define another method which has 3 arguments but in pt=ython \n",
        "  #method overloading is done like this\n",
        "    if a!=None and b!=None and c!=None:\n",
        "      s=a+b+c\n",
        "    elif a!=None and b!=None:\n",
        "      s=a+b\n",
        "    else:\n",
        "      s=a\n",
        "    return s\n",
        "s1=Student(30,40)\n",
        "s2=Student(40,50)\n",
        "print(s1.sum(1,2,3))\n",
        "print(s1.sum(1))\n",
        "print(s1.sum(1,2))\n"
      ],
      "execution_count": null,
      "outputs": [
        {
          "output_type": "stream",
          "text": [
            "6\n",
            "1\n",
            "3\n"
          ],
          "name": "stdout"
        }
      ]
    },
    {
      "cell_type": "code",
      "metadata": {
        "id": "SiX4JQJP6Sic",
        "outputId": "6fd9814f-5aee-4eb9-8b4b-7a384d9af2fe",
        "colab": {
          "base_uri": "https://localhost:8080/"
        }
      },
      "source": [
        "# METHOD OVERRIDING\n",
        "class A:\n",
        "  def show(self):\n",
        "    print(\"in A show\")\n",
        "  def m1(self):\n",
        "    print(\"i am in method 1\")\n",
        "class B(A):\n",
        "  pass\n",
        "b1=B()\n",
        "b1.show()\n",
        "b1.m1()\n",
        "# sir said very good example here when sir is studying inter he doesn't have any phone but his father has nokia 1100 when someone asked he would reply that\n",
        "# he has nokia 1100 after some days he bought motorola when some one asked now he would reply that he has motorola not nokia 1100"
      ],
      "execution_count": 3,
      "outputs": [
        {
          "output_type": "stream",
          "text": [
            "in A show\n",
            "i am in method 1\n"
          ],
          "name": "stdout"
        }
      ]
    },
    {
      "cell_type": "code",
      "metadata": {
        "id": "8eZVW-gw7xaN",
        "outputId": "f39b0cc3-3595-4218-d360-289ceff9cf17",
        "colab": {
          "base_uri": "https://localhost:8080/",
          "height": 34
        }
      },
      "source": [
        "class Father:\n",
        "  def show(self):\n",
        "    print(\"i have nokia 1100\")\n",
        "class Sir(Father):\n",
        "  def show(self):\n",
        "    print(\"i have motorola\")\n",
        "b1=Sir()\n",
        "b1.show()\n",
        "# NOW HE HAS MOTOROLA SO MOTOROLA GETS PRINTED IN PREVIOUS CASE HE HIMSELF HAS NO PHONE SO HE USED TO SAY NOKIA 1100"
      ],
      "execution_count": null,
      "outputs": [
        {
          "output_type": "stream",
          "text": [
            "i have motorola\n"
          ],
          "name": "stdout"
        }
      ]
    },
    {
      "cell_type": "code",
      "metadata": {
        "id": "Ybw76pWL8Rhj"
      },
      "source": [
        ""
      ],
      "execution_count": null,
      "outputs": []
    }
  ]
}